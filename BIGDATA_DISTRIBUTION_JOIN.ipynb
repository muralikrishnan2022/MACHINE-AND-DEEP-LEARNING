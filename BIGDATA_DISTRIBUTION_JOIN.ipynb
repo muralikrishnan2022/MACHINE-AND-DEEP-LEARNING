{
  "nbformat": 4,
  "nbformat_minor": 0,
  "metadata": {
    "colab": {
      "provenance": [],
      "authorship_tag": "ABX9TyOY/+4aLZwWj2i80ZxEYwud",
      "include_colab_link": true
    },
    "kernelspec": {
      "name": "python3",
      "display_name": "Python 3"
    },
    "language_info": {
      "name": "python"
    },
    "accelerator": "TPU"
  },
  "cells": [
    {
      "cell_type": "markdown",
      "metadata": {
        "id": "view-in-github",
        "colab_type": "text"
      },
      "source": [
        "<a href=\"https://colab.research.google.com/github/muralikrishnan2022/MACHINE-AND-DEEP-LEARNING-PROJECTS/blob/main/BIGDATA_DISTRIBUTION_JOIN.ipynb\" target=\"_parent\"><img src=\"https://colab.research.google.com/assets/colab-badge.svg\" alt=\"Open In Colab\"/></a>"
      ]
    },
    {
      "cell_type": "code",
      "execution_count": null,
      "metadata": {
        "colab": {
          "base_uri": "https://localhost:8080/"
        },
        "id": "5vb62JPBZdj7",
        "outputId": "2a9efae3-ff04-4e2c-fd93-a9f8d749a271"
      },
      "outputs": [
        {
          "output_type": "stream",
          "name": "stdout",
          "text": [
            "Collecting pyspark\n",
            "  Downloading pyspark-3.5.0.tar.gz (316.9 MB)\n",
            "\u001b[2K     \u001b[90m━━━━━━━━━━━━━━━━━━━━━━━━━━━━━━━━━━━━━━━━\u001b[0m \u001b[32m316.9/316.9 MB\u001b[0m \u001b[31m3.0 MB/s\u001b[0m eta \u001b[36m0:00:00\u001b[0m\n",
            "\u001b[?25h  Preparing metadata (setup.py) ... \u001b[?25l\u001b[?25hdone\n",
            "Requirement already satisfied: py4j==0.10.9.7 in /usr/local/lib/python3.10/dist-packages (from pyspark) (0.10.9.7)\n",
            "Building wheels for collected packages: pyspark\n",
            "  Building wheel for pyspark (setup.py) ... \u001b[?25l\u001b[?25hdone\n",
            "  Created wheel for pyspark: filename=pyspark-3.5.0-py2.py3-none-any.whl size=317425344 sha256=62ca3bd872995beed91f0d011bf86f62c4a1ce5902aa94c1e8818653440703ad\n",
            "  Stored in directory: /root/.cache/pip/wheels/41/4e/10/c2cf2467f71c678cfc8a6b9ac9241e5e44a01940da8fbb17fc\n",
            "Successfully built pyspark\n",
            "Installing collected packages: pyspark\n",
            "Successfully installed pyspark-3.5.0\n"
          ]
        }
      ],
      "source": [
        "! pip install pyspark"
      ]
    },
    {
      "cell_type": "code",
      "source": [
        "from pyspark.sql import SparkSession\n",
        "from pyspark.sql.functions import avg, max, min\n",
        "from pyspark.sql import functions as F"
      ],
      "metadata": {
        "id": "KaJA_aP3ZqC-"
      },
      "execution_count": null,
      "outputs": []
    },
    {
      "cell_type": "code",
      "source": [
        "spark = SparkSession.builder.appName(\"ABC_Bankcustomer_details\").getOrCreate()\n",
        "\n",
        "# Read CSV files into DataFrames\n",
        "df1 = spark.read.csv('/content/ABC_1st_half.csv', header=True, inferSchema=True)\n",
        "df2 = spark.read.csv('/content/ABC_2nd_half.csv', header=True, inferSchema=True)\n",
        "\n",
        "df1.show()\n",
        "df2.show()"
      ],
      "metadata": {
        "colab": {
          "base_uri": "https://localhost:8080/"
        },
        "id": "EP3imhs1aA6n",
        "outputId": "d410388c-b0cc-4587-d0c6-b6704b2a5f28"
      },
      "execution_count": null,
      "outputs": [
        {
          "output_type": "stream",
          "name": "stdout",
          "text": [
            "+-------+---+-----------+--------+-------------------+-------+-------+-------+---------+\n",
            "|Cust_id|age|        job| marital|          education|default|housing|   loan|  contact|\n",
            "+-------+---+-----------+--------+-------------------+-------+-------+-------+---------+\n",
            "|      1| 56|  housemaid| married|           basic.4y|     no|     no|     no|telephone|\n",
            "|      2| 57|   services| married|        high.school|unknown|     no|     no|telephone|\n",
            "|      4| 40|     admin.| married|           basic.6y|     no|     no|     no|telephone|\n",
            "|      5| 56|   services| married|        high.school|     no|     no|    yes|telephone|\n",
            "|      8| 41|blue-collar| married|            unknown|unknown|     no|     no|telephone|\n",
            "|      9| 24| technician|  single|professional.course|     no|    yes|     no|telephone|\n",
            "|     11| 41|blue-collar| married|            unknown|unknown|     no|     no|telephone|\n",
            "|     12| 25|   services|  single|        high.school|     no|    yes|     no|telephone|\n",
            "|     13| 29|blue-collar|  single|        high.school|     no|     no|    yes|telephone|\n",
            "|     14| 57|  housemaid|divorced|           basic.4y|     no|    yes|     no|telephone|\n",
            "|     18| 46|blue-collar| married|           basic.6y|unknown|    yes|    yes|telephone|\n",
            "|     19| 50|blue-collar| married|           basic.9y|     no|    yes|    yes|telephone|\n",
            "|     20| 39| management|  single|           basic.9y|unknown|     no|     no|telephone|\n",
            "|     22| 55|blue-collar| married|           basic.4y|unknown|    yes|     no|telephone|\n",
            "|     23| 55|    retired|  single|        high.school|     no|    yes|     no|telephone|\n",
            "|     25| 37|     admin.| married|        high.school|     no|    yes|     no|telephone|\n",
            "|     26| 35| technician| married|  university.degree|     no|     no|    yes|telephone|\n",
            "|     27| 59| technician| married|            unknown|     no|    yes|     no|telephone|\n",
            "|     29| 54| technician|  single|  university.degree|unknown|     no|     no|telephone|\n",
            "|     30| 55|    unknown| married|  university.degree|unknown|unknown|unknown|telephone|\n",
            "+-------+---+-----------+--------+-------------------+-------+-------+-------+---------+\n",
            "only showing top 20 rows\n",
            "\n",
            "+-------+-----+-----------+--------+--------+-----+--------+-----------+------------+--------------+-------------+---------+-----------+---+\n",
            "|Cust_id|month|day_of_week|duration|campaign|pdays|previous|   poutcome|emp.var.rate|cons.price.idx|cons.conf.idx|euribor3m|nr.employed|  y|\n",
            "+-------+-----+-----------+--------+--------+-----+--------+-----------+------------+--------------+-------------+---------+-----------+---+\n",
            "|      1|  may|        mon|     261|       1|  999|       0|nonexistent|         1.1|        93.994|        -36.4|    4.857|       5191| no|\n",
            "|      3|  may|        mon|     226|       1|  999|       0|nonexistent|         1.1|        93.994|        -36.4|    4.857|       5191| no|\n",
            "|      4|  may|        mon|     151|       1|  999|       0|nonexistent|         1.1|        93.994|        -36.4|    4.857|       5191| no|\n",
            "|      5|  may|        mon|     307|       1|  999|       0|nonexistent|         1.1|        93.994|        -36.4|    4.857|       5191| no|\n",
            "|      6|  may|        mon|     198|       1|  999|       0|nonexistent|         1.1|        93.994|        -36.4|    4.857|       5191| no|\n",
            "|      7|  may|        mon|     139|       1|  999|       0|nonexistent|         1.1|        93.994|        -36.4|    4.857|       5191| no|\n",
            "|      8|  may|        mon|     217|       1|  999|       0|nonexistent|         1.1|        93.994|        -36.4|    4.857|       5191| no|\n",
            "|     10|  may|        mon|      50|       1|  999|       0|nonexistent|         1.1|        93.994|        -36.4|    4.857|       5191| no|\n",
            "|     11|  may|        mon|      55|       1|  999|       0|nonexistent|         1.1|        93.994|        -36.4|    4.857|       5191| no|\n",
            "|     12|  may|        mon|     222|       1|  999|       0|nonexistent|         1.1|        93.994|        -36.4|    4.857|       5191| no|\n",
            "|     15|  may|        mon|     146|       1|  999|       0|nonexistent|         1.1|        93.994|        -36.4|    4.857|       5191| no|\n",
            "|     16|  may|        mon|     174|       1|  999|       0|nonexistent|         1.1|        93.994|        -36.4|    4.857|       5191| no|\n",
            "|     17|  may|        mon|     312|       1|  999|       0|nonexistent|         1.1|        93.994|        -36.4|    4.857|       5191| no|\n",
            "|     18|  may|        mon|     440|       1|  999|       0|nonexistent|         1.1|        93.994|        -36.4|    4.857|       5191| no|\n",
            "|     21|  may|        mon|      38|       1|  999|       0|nonexistent|         1.1|        93.994|        -36.4|    4.857|       5191| no|\n",
            "|     22|  may|        mon|     262|       1|  999|       0|nonexistent|         1.1|        93.994|        -36.4|    4.857|       5191| no|\n",
            "|     23|  may|        mon|     342|       1|  999|       0|nonexistent|         1.1|        93.994|        -36.4|    4.857|       5191| no|\n",
            "|     24|  may|        mon|     181|       1|  999|       0|nonexistent|         1.1|        93.994|        -36.4|    4.857|       5191| no|\n",
            "|     25|  may|        mon|     172|       1|  999|       0|nonexistent|         1.1|        93.994|        -36.4|    4.857|       5191| no|\n",
            "|     26|  may|        mon|      99|       1|  999|       0|nonexistent|         1.1|        93.994|        -36.4|    4.857|       5191| no|\n",
            "+-------+-----+-----------+--------+--------+-----+--------+-----------+------------+--------------+-------------+---------+-----------+---+\n",
            "only showing top 20 rows\n",
            "\n"
          ]
        }
      ]
    },
    {
      "cell_type": "code",
      "source": [
        "#inner join\n",
        "inner_join_df = df1.join(df2, \"Cust_id\", \"inner\")\n",
        "inner_join_df.show()"
      ],
      "metadata": {
        "colab": {
          "base_uri": "https://localhost:8080/"
        },
        "id": "Z1sCBRBObX8l",
        "outputId": "0baae9c7-3a9a-4624-f462-d29affb11ac7"
      },
      "execution_count": null,
      "outputs": [
        {
          "output_type": "stream",
          "name": "stdout",
          "text": [
            "+-------+---+-----------+--------+-----------------+-------+-------+-------+---------+-----+-----------+--------+--------+-----+--------+-----------+------------+--------------+-------------+---------+-----------+---+\n",
            "|Cust_id|age|        job| marital|        education|default|housing|   loan|  contact|month|day_of_week|duration|campaign|pdays|previous|   poutcome|emp.var.rate|cons.price.idx|cons.conf.idx|euribor3m|nr.employed|  y|\n",
            "+-------+---+-----------+--------+-----------------+-------+-------+-------+---------+-----+-----------+--------+--------+-----+--------+-----------+------------+--------------+-------------+---------+-----------+---+\n",
            "|      1| 56|  housemaid| married|         basic.4y|     no|     no|     no|telephone|  may|        mon|     261|       1|  999|       0|nonexistent|         1.1|        93.994|        -36.4|    4.857|       5191| no|\n",
            "|      4| 40|     admin.| married|         basic.6y|     no|     no|     no|telephone|  may|        mon|     151|       1|  999|       0|nonexistent|         1.1|        93.994|        -36.4|    4.857|       5191| no|\n",
            "|      5| 56|   services| married|      high.school|     no|     no|    yes|telephone|  may|        mon|     307|       1|  999|       0|nonexistent|         1.1|        93.994|        -36.4|    4.857|       5191| no|\n",
            "|      8| 41|blue-collar| married|          unknown|unknown|     no|     no|telephone|  may|        mon|     217|       1|  999|       0|nonexistent|         1.1|        93.994|        -36.4|    4.857|       5191| no|\n",
            "|     11| 41|blue-collar| married|          unknown|unknown|     no|     no|telephone|  may|        mon|      55|       1|  999|       0|nonexistent|         1.1|        93.994|        -36.4|    4.857|       5191| no|\n",
            "|     12| 25|   services|  single|      high.school|     no|    yes|     no|telephone|  may|        mon|     222|       1|  999|       0|nonexistent|         1.1|        93.994|        -36.4|    4.857|       5191| no|\n",
            "|     18| 46|blue-collar| married|         basic.6y|unknown|    yes|    yes|telephone|  may|        mon|     440|       1|  999|       0|nonexistent|         1.1|        93.994|        -36.4|    4.857|       5191| no|\n",
            "|     22| 55|blue-collar| married|         basic.4y|unknown|    yes|     no|telephone|  may|        mon|     262|       1|  999|       0|nonexistent|         1.1|        93.994|        -36.4|    4.857|       5191| no|\n",
            "|     23| 55|    retired|  single|      high.school|     no|    yes|     no|telephone|  may|        mon|     342|       1|  999|       0|nonexistent|         1.1|        93.994|        -36.4|    4.857|       5191| no|\n",
            "|     25| 37|     admin.| married|      high.school|     no|    yes|     no|telephone|  may|        mon|     172|       1|  999|       0|nonexistent|         1.1|        93.994|        -36.4|    4.857|       5191| no|\n",
            "|     26| 35| technician| married|university.degree|     no|     no|    yes|telephone|  may|        mon|      99|       1|  999|       0|nonexistent|         1.1|        93.994|        -36.4|    4.857|       5191| no|\n",
            "|     27| 59| technician| married|          unknown|     no|    yes|     no|telephone|  may|        mon|      93|       1|  999|       0|nonexistent|         1.1|        93.994|        -36.4|    4.857|       5191| no|\n",
            "|     29| 54| technician|  single|university.degree|unknown|     no|     no|telephone|  may|        mon|     255|       2|  999|       0|nonexistent|         1.1|        93.994|        -36.4|    4.857|       5191| no|\n",
            "|     30| 55|    unknown| married|university.degree|unknown|unknown|unknown|telephone|  may|        mon|     362|       1|  999|       0|nonexistent|         1.1|        93.994|        -36.4|    4.857|       5191| no|\n",
            "|     31| 46|     admin.| married|          unknown|     no|     no|     no|telephone|  may|        mon|     348|       1|  999|       0|nonexistent|         1.1|        93.994|        -36.4|    4.857|       5191| no|\n",
            "|     33| 49|blue-collar| married|          unknown|     no|     no|     no|telephone|  may|        mon|      73|       1|  999|       0|nonexistent|         1.1|        93.994|        -36.4|    4.857|       5191| no|\n",
            "|     34| 54| management| married|         basic.4y|unknown|    yes|     no|telephone|  may|        mon|     230|       1|  999|       0|nonexistent|         1.1|        93.994|        -36.4|    4.857|       5191| no|\n",
            "|     35| 54|blue-collar|divorced|         basic.4y|     no|     no|     no|telephone|  may|        mon|     208|       1|  999|       0|nonexistent|         1.1|        93.994|        -36.4|    4.857|       5191| no|\n",
            "|     37| 34|   services| married|      high.school|     no|     no|     no|telephone|  may|        mon|     365|       1|  999|       0|nonexistent|         1.1|        93.994|        -36.4|    4.857|       5191| no|\n",
            "|     38| 52| technician| married|         basic.9y|     no|    yes|     no|telephone|  may|        mon|    1666|       1|  999|       0|nonexistent|         1.1|        93.994|        -36.4|    4.857|       5191| no|\n",
            "+-------+---+-----------+--------+-----------------+-------+-------+-------+---------+-----+-----------+--------+--------+-----+--------+-----------+------------+--------------+-------------+---------+-----------+---+\n",
            "only showing top 20 rows\n",
            "\n"
          ]
        }
      ]
    },
    {
      "cell_type": "code",
      "source": [
        "# left join\n",
        "left_join_df = df1.join(df2, \"Cust_id\", \"left\")\n",
        "left_join_df.show()"
      ],
      "metadata": {
        "colab": {
          "base_uri": "https://localhost:8080/"
        },
        "id": "MK-brNK_boRB",
        "outputId": "bb0516c6-dc67-4586-fe12-72de6d404c52"
      },
      "execution_count": null,
      "outputs": [
        {
          "output_type": "stream",
          "name": "stdout",
          "text": [
            "+-------+---+-----------+--------+-------------------+-------+-------+-------+---------+-----+-----------+--------+--------+-----+--------+-----------+------------+--------------+-------------+---------+-----------+----+\n",
            "|Cust_id|age|        job| marital|          education|default|housing|   loan|  contact|month|day_of_week|duration|campaign|pdays|previous|   poutcome|emp.var.rate|cons.price.idx|cons.conf.idx|euribor3m|nr.employed|   y|\n",
            "+-------+---+-----------+--------+-------------------+-------+-------+-------+---------+-----+-----------+--------+--------+-----+--------+-----------+------------+--------------+-------------+---------+-----------+----+\n",
            "|      1| 56|  housemaid| married|           basic.4y|     no|     no|     no|telephone|  may|        mon|     261|       1|  999|       0|nonexistent|         1.1|        93.994|        -36.4|    4.857|       5191|  no|\n",
            "|      2| 57|   services| married|        high.school|unknown|     no|     no|telephone| NULL|       NULL|    NULL|    NULL| NULL|    NULL|       NULL|        NULL|          NULL|         NULL|     NULL|       NULL|NULL|\n",
            "|      4| 40|     admin.| married|           basic.6y|     no|     no|     no|telephone|  may|        mon|     151|       1|  999|       0|nonexistent|         1.1|        93.994|        -36.4|    4.857|       5191|  no|\n",
            "|      5| 56|   services| married|        high.school|     no|     no|    yes|telephone|  may|        mon|     307|       1|  999|       0|nonexistent|         1.1|        93.994|        -36.4|    4.857|       5191|  no|\n",
            "|      8| 41|blue-collar| married|            unknown|unknown|     no|     no|telephone|  may|        mon|     217|       1|  999|       0|nonexistent|         1.1|        93.994|        -36.4|    4.857|       5191|  no|\n",
            "|      9| 24| technician|  single|professional.course|     no|    yes|     no|telephone| NULL|       NULL|    NULL|    NULL| NULL|    NULL|       NULL|        NULL|          NULL|         NULL|     NULL|       NULL|NULL|\n",
            "|     11| 41|blue-collar| married|            unknown|unknown|     no|     no|telephone|  may|        mon|      55|       1|  999|       0|nonexistent|         1.1|        93.994|        -36.4|    4.857|       5191|  no|\n",
            "|     12| 25|   services|  single|        high.school|     no|    yes|     no|telephone|  may|        mon|     222|       1|  999|       0|nonexistent|         1.1|        93.994|        -36.4|    4.857|       5191|  no|\n",
            "|     13| 29|blue-collar|  single|        high.school|     no|     no|    yes|telephone| NULL|       NULL|    NULL|    NULL| NULL|    NULL|       NULL|        NULL|          NULL|         NULL|     NULL|       NULL|NULL|\n",
            "|     14| 57|  housemaid|divorced|           basic.4y|     no|    yes|     no|telephone| NULL|       NULL|    NULL|    NULL| NULL|    NULL|       NULL|        NULL|          NULL|         NULL|     NULL|       NULL|NULL|\n",
            "|     18| 46|blue-collar| married|           basic.6y|unknown|    yes|    yes|telephone|  may|        mon|     440|       1|  999|       0|nonexistent|         1.1|        93.994|        -36.4|    4.857|       5191|  no|\n",
            "|     19| 50|blue-collar| married|           basic.9y|     no|    yes|    yes|telephone| NULL|       NULL|    NULL|    NULL| NULL|    NULL|       NULL|        NULL|          NULL|         NULL|     NULL|       NULL|NULL|\n",
            "|     20| 39| management|  single|           basic.9y|unknown|     no|     no|telephone| NULL|       NULL|    NULL|    NULL| NULL|    NULL|       NULL|        NULL|          NULL|         NULL|     NULL|       NULL|NULL|\n",
            "|     22| 55|blue-collar| married|           basic.4y|unknown|    yes|     no|telephone|  may|        mon|     262|       1|  999|       0|nonexistent|         1.1|        93.994|        -36.4|    4.857|       5191|  no|\n",
            "|     23| 55|    retired|  single|        high.school|     no|    yes|     no|telephone|  may|        mon|     342|       1|  999|       0|nonexistent|         1.1|        93.994|        -36.4|    4.857|       5191|  no|\n",
            "|     25| 37|     admin.| married|        high.school|     no|    yes|     no|telephone|  may|        mon|     172|       1|  999|       0|nonexistent|         1.1|        93.994|        -36.4|    4.857|       5191|  no|\n",
            "|     26| 35| technician| married|  university.degree|     no|     no|    yes|telephone|  may|        mon|      99|       1|  999|       0|nonexistent|         1.1|        93.994|        -36.4|    4.857|       5191|  no|\n",
            "|     27| 59| technician| married|            unknown|     no|    yes|     no|telephone|  may|        mon|      93|       1|  999|       0|nonexistent|         1.1|        93.994|        -36.4|    4.857|       5191|  no|\n",
            "|     29| 54| technician|  single|  university.degree|unknown|     no|     no|telephone|  may|        mon|     255|       2|  999|       0|nonexistent|         1.1|        93.994|        -36.4|    4.857|       5191|  no|\n",
            "|     30| 55|    unknown| married|  university.degree|unknown|unknown|unknown|telephone|  may|        mon|     362|       1|  999|       0|nonexistent|         1.1|        93.994|        -36.4|    4.857|       5191|  no|\n",
            "+-------+---+-----------+--------+-------------------+-------+-------+-------+---------+-----+-----------+--------+--------+-----+--------+-----------+------------+--------------+-------------+---------+-----------+----+\n",
            "only showing top 20 rows\n",
            "\n"
          ]
        }
      ]
    },
    {
      "cell_type": "code",
      "source": [
        "# right join\n",
        "right_join_df = df1.join(df2, \"Cust_id\", \"right\")\n",
        "right_join_df.show()"
      ],
      "metadata": {
        "colab": {
          "base_uri": "https://localhost:8080/"
        },
        "id": "m93PhL5fcd2q",
        "outputId": "fec9568d-0f11-4902-efa0-34a0b2a3ecd5"
      },
      "execution_count": null,
      "outputs": [
        {
          "output_type": "stream",
          "name": "stdout",
          "text": [
            "+-------+----+-----------+-------+-----------------+-------+-------+----+---------+-----+-----------+--------+--------+-----+--------+-----------+------------+--------------+-------------+---------+-----------+---+\n",
            "|Cust_id| age|        job|marital|        education|default|housing|loan|  contact|month|day_of_week|duration|campaign|pdays|previous|   poutcome|emp.var.rate|cons.price.idx|cons.conf.idx|euribor3m|nr.employed|  y|\n",
            "+-------+----+-----------+-------+-----------------+-------+-------+----+---------+-----+-----------+--------+--------+-----+--------+-----------+------------+--------------+-------------+---------+-----------+---+\n",
            "|      1|  56|  housemaid|married|         basic.4y|     no|     no|  no|telephone|  may|        mon|     261|       1|  999|       0|nonexistent|         1.1|        93.994|        -36.4|    4.857|       5191| no|\n",
            "|      3|NULL|       NULL|   NULL|             NULL|   NULL|   NULL|NULL|     NULL|  may|        mon|     226|       1|  999|       0|nonexistent|         1.1|        93.994|        -36.4|    4.857|       5191| no|\n",
            "|      4|  40|     admin.|married|         basic.6y|     no|     no|  no|telephone|  may|        mon|     151|       1|  999|       0|nonexistent|         1.1|        93.994|        -36.4|    4.857|       5191| no|\n",
            "|      5|  56|   services|married|      high.school|     no|     no| yes|telephone|  may|        mon|     307|       1|  999|       0|nonexistent|         1.1|        93.994|        -36.4|    4.857|       5191| no|\n",
            "|      6|NULL|       NULL|   NULL|             NULL|   NULL|   NULL|NULL|     NULL|  may|        mon|     198|       1|  999|       0|nonexistent|         1.1|        93.994|        -36.4|    4.857|       5191| no|\n",
            "|      7|NULL|       NULL|   NULL|             NULL|   NULL|   NULL|NULL|     NULL|  may|        mon|     139|       1|  999|       0|nonexistent|         1.1|        93.994|        -36.4|    4.857|       5191| no|\n",
            "|      8|  41|blue-collar|married|          unknown|unknown|     no|  no|telephone|  may|        mon|     217|       1|  999|       0|nonexistent|         1.1|        93.994|        -36.4|    4.857|       5191| no|\n",
            "|     10|NULL|       NULL|   NULL|             NULL|   NULL|   NULL|NULL|     NULL|  may|        mon|      50|       1|  999|       0|nonexistent|         1.1|        93.994|        -36.4|    4.857|       5191| no|\n",
            "|     11|  41|blue-collar|married|          unknown|unknown|     no|  no|telephone|  may|        mon|      55|       1|  999|       0|nonexistent|         1.1|        93.994|        -36.4|    4.857|       5191| no|\n",
            "|     12|  25|   services| single|      high.school|     no|    yes|  no|telephone|  may|        mon|     222|       1|  999|       0|nonexistent|         1.1|        93.994|        -36.4|    4.857|       5191| no|\n",
            "|     15|NULL|       NULL|   NULL|             NULL|   NULL|   NULL|NULL|     NULL|  may|        mon|     146|       1|  999|       0|nonexistent|         1.1|        93.994|        -36.4|    4.857|       5191| no|\n",
            "|     16|NULL|       NULL|   NULL|             NULL|   NULL|   NULL|NULL|     NULL|  may|        mon|     174|       1|  999|       0|nonexistent|         1.1|        93.994|        -36.4|    4.857|       5191| no|\n",
            "|     17|NULL|       NULL|   NULL|             NULL|   NULL|   NULL|NULL|     NULL|  may|        mon|     312|       1|  999|       0|nonexistent|         1.1|        93.994|        -36.4|    4.857|       5191| no|\n",
            "|     18|  46|blue-collar|married|         basic.6y|unknown|    yes| yes|telephone|  may|        mon|     440|       1|  999|       0|nonexistent|         1.1|        93.994|        -36.4|    4.857|       5191| no|\n",
            "|     21|NULL|       NULL|   NULL|             NULL|   NULL|   NULL|NULL|     NULL|  may|        mon|      38|       1|  999|       0|nonexistent|         1.1|        93.994|        -36.4|    4.857|       5191| no|\n",
            "|     22|  55|blue-collar|married|         basic.4y|unknown|    yes|  no|telephone|  may|        mon|     262|       1|  999|       0|nonexistent|         1.1|        93.994|        -36.4|    4.857|       5191| no|\n",
            "|     23|  55|    retired| single|      high.school|     no|    yes|  no|telephone|  may|        mon|     342|       1|  999|       0|nonexistent|         1.1|        93.994|        -36.4|    4.857|       5191| no|\n",
            "|     24|NULL|       NULL|   NULL|             NULL|   NULL|   NULL|NULL|     NULL|  may|        mon|     181|       1|  999|       0|nonexistent|         1.1|        93.994|        -36.4|    4.857|       5191| no|\n",
            "|     25|  37|     admin.|married|      high.school|     no|    yes|  no|telephone|  may|        mon|     172|       1|  999|       0|nonexistent|         1.1|        93.994|        -36.4|    4.857|       5191| no|\n",
            "|     26|  35| technician|married|university.degree|     no|     no| yes|telephone|  may|        mon|      99|       1|  999|       0|nonexistent|         1.1|        93.994|        -36.4|    4.857|       5191| no|\n",
            "+-------+----+-----------+-------+-----------------+-------+-------+----+---------+-----+-----------+--------+--------+-----+--------+-----------+------------+--------------+-------------+---------+-----------+---+\n",
            "only showing top 20 rows\n",
            "\n"
          ]
        }
      ]
    },
    {
      "cell_type": "code",
      "source": [
        "#outer join\n",
        "full_outer_join_df = df1.join(df2, \"Cust_id\", \"outer\")\n",
        "full_outer_join_df.show()"
      ],
      "metadata": {
        "colab": {
          "base_uri": "https://localhost:8080/"
        },
        "id": "G__1Vg5JcqMY",
        "outputId": "08d5460c-f4e5-4534-e980-a29aeab96771"
      },
      "execution_count": null,
      "outputs": [
        {
          "output_type": "stream",
          "name": "stdout",
          "text": [
            "+-------+----+-----------+--------+-------------------+-------+-------+----+---------+-----+-----------+--------+--------+-----+--------+-----------+------------+--------------+-------------+---------+-----------+----+\n",
            "|Cust_id| age|        job| marital|          education|default|housing|loan|  contact|month|day_of_week|duration|campaign|pdays|previous|   poutcome|emp.var.rate|cons.price.idx|cons.conf.idx|euribor3m|nr.employed|   y|\n",
            "+-------+----+-----------+--------+-------------------+-------+-------+----+---------+-----+-----------+--------+--------+-----+--------+-----------+------------+--------------+-------------+---------+-----------+----+\n",
            "|      1|  56|  housemaid| married|           basic.4y|     no|     no|  no|telephone|  may|        mon|     261|       1|  999|       0|nonexistent|         1.1|        93.994|        -36.4|    4.857|       5191|  no|\n",
            "|      3|NULL|       NULL|    NULL|               NULL|   NULL|   NULL|NULL|     NULL|  may|        mon|     226|       1|  999|       0|nonexistent|         1.1|        93.994|        -36.4|    4.857|       5191|  no|\n",
            "|      5|  56|   services| married|        high.school|     no|     no| yes|telephone|  may|        mon|     307|       1|  999|       0|nonexistent|         1.1|        93.994|        -36.4|    4.857|       5191|  no|\n",
            "|      6|NULL|       NULL|    NULL|               NULL|   NULL|   NULL|NULL|     NULL|  may|        mon|     198|       1|  999|       0|nonexistent|         1.1|        93.994|        -36.4|    4.857|       5191|  no|\n",
            "|      9|  24| technician|  single|professional.course|     no|    yes|  no|telephone| NULL|       NULL|    NULL|    NULL| NULL|    NULL|       NULL|        NULL|          NULL|         NULL|     NULL|       NULL|NULL|\n",
            "|     12|  25|   services|  single|        high.school|     no|    yes|  no|telephone|  may|        mon|     222|       1|  999|       0|nonexistent|         1.1|        93.994|        -36.4|    4.857|       5191|  no|\n",
            "|     13|  29|blue-collar|  single|        high.school|     no|     no| yes|telephone| NULL|       NULL|    NULL|    NULL| NULL|    NULL|       NULL|        NULL|          NULL|         NULL|     NULL|       NULL|NULL|\n",
            "|     15|NULL|       NULL|    NULL|               NULL|   NULL|   NULL|NULL|     NULL|  may|        mon|     146|       1|  999|       0|nonexistent|         1.1|        93.994|        -36.4|    4.857|       5191|  no|\n",
            "|     16|NULL|       NULL|    NULL|               NULL|   NULL|   NULL|NULL|     NULL|  may|        mon|     174|       1|  999|       0|nonexistent|         1.1|        93.994|        -36.4|    4.857|       5191|  no|\n",
            "|     17|NULL|       NULL|    NULL|               NULL|   NULL|   NULL|NULL|     NULL|  may|        mon|     312|       1|  999|       0|nonexistent|         1.1|        93.994|        -36.4|    4.857|       5191|  no|\n",
            "|     19|  50|blue-collar| married|           basic.9y|     no|    yes| yes|telephone| NULL|       NULL|    NULL|    NULL| NULL|    NULL|       NULL|        NULL|          NULL|         NULL|     NULL|       NULL|NULL|\n",
            "|     20|  39| management|  single|           basic.9y|unknown|     no|  no|telephone| NULL|       NULL|    NULL|    NULL| NULL|    NULL|       NULL|        NULL|          NULL|         NULL|     NULL|       NULL|NULL|\n",
            "|     22|  55|blue-collar| married|           basic.4y|unknown|    yes|  no|telephone|  may|        mon|     262|       1|  999|       0|nonexistent|         1.1|        93.994|        -36.4|    4.857|       5191|  no|\n",
            "|     26|  35| technician| married|  university.degree|     no|     no| yes|telephone|  may|        mon|      99|       1|  999|       0|nonexistent|         1.1|        93.994|        -36.4|    4.857|       5191|  no|\n",
            "|     27|  59| technician| married|            unknown|     no|    yes|  no|telephone|  may|        mon|      93|       1|  999|       0|nonexistent|         1.1|        93.994|        -36.4|    4.857|       5191|  no|\n",
            "|     28|NULL|       NULL|    NULL|               NULL|   NULL|   NULL|NULL|     NULL|  may|        mon|     233|       1|  999|       0|nonexistent|         1.1|        93.994|        -36.4|    4.857|       5191|  no|\n",
            "|     31|  46|     admin.| married|            unknown|     no|     no|  no|telephone|  may|        mon|     348|       1|  999|       0|nonexistent|         1.1|        93.994|        -36.4|    4.857|       5191|  no|\n",
            "|     34|  54| management| married|           basic.4y|unknown|    yes|  no|telephone|  may|        mon|     230|       1|  999|       0|nonexistent|         1.1|        93.994|        -36.4|    4.857|       5191|  no|\n",
            "|     35|  54|blue-collar|divorced|           basic.4y|     no|     no|  no|telephone|  may|        mon|     208|       1|  999|       0|nonexistent|         1.1|        93.994|        -36.4|    4.857|       5191|  no|\n",
            "|     37|  34|   services| married|        high.school|     no|     no|  no|telephone|  may|        mon|     365|       1|  999|       0|nonexistent|         1.1|        93.994|        -36.4|    4.857|       5191|  no|\n",
            "+-------+----+-----------+--------+-------------------+-------+-------+----+---------+-----+-----------+--------+--------+-----+--------+-----------+------------+--------------+-------------+---------+-----------+----+\n",
            "only showing top 20 rows\n",
            "\n"
          ]
        }
      ]
    },
    {
      "cell_type": "code",
      "source": [
        "# cross join\n",
        "cross_join_df = df1.crossJoin(df2)\n",
        "cross_join_df.show()"
      ],
      "metadata": {
        "colab": {
          "base_uri": "https://localhost:8080/"
        },
        "id": "XVkPvup-cw-5",
        "outputId": "45d2e5e1-a86b-48f6-c639-1d7b0b52e8ee"
      },
      "execution_count": null,
      "outputs": [
        {
          "output_type": "stream",
          "name": "stdout",
          "text": [
            "+-------+---+-----------+--------+-------------------+-------+-------+-------+---------+-------+-----+-----------+--------+--------+-----+--------+-----------+------------+--------------+-------------+---------+-----------+---+\n",
            "|Cust_id|age|        job| marital|          education|default|housing|   loan|  contact|Cust_id|month|day_of_week|duration|campaign|pdays|previous|   poutcome|emp.var.rate|cons.price.idx|cons.conf.idx|euribor3m|nr.employed|  y|\n",
            "+-------+---+-----------+--------+-------------------+-------+-------+-------+---------+-------+-----+-----------+--------+--------+-----+--------+-----------+------------+--------------+-------------+---------+-----------+---+\n",
            "|      1| 56|  housemaid| married|           basic.4y|     no|     no|     no|telephone|      1|  may|        mon|     261|       1|  999|       0|nonexistent|         1.1|        93.994|        -36.4|    4.857|       5191| no|\n",
            "|      2| 57|   services| married|        high.school|unknown|     no|     no|telephone|      1|  may|        mon|     261|       1|  999|       0|nonexistent|         1.1|        93.994|        -36.4|    4.857|       5191| no|\n",
            "|      4| 40|     admin.| married|           basic.6y|     no|     no|     no|telephone|      1|  may|        mon|     261|       1|  999|       0|nonexistent|         1.1|        93.994|        -36.4|    4.857|       5191| no|\n",
            "|      5| 56|   services| married|        high.school|     no|     no|    yes|telephone|      1|  may|        mon|     261|       1|  999|       0|nonexistent|         1.1|        93.994|        -36.4|    4.857|       5191| no|\n",
            "|      8| 41|blue-collar| married|            unknown|unknown|     no|     no|telephone|      1|  may|        mon|     261|       1|  999|       0|nonexistent|         1.1|        93.994|        -36.4|    4.857|       5191| no|\n",
            "|      9| 24| technician|  single|professional.course|     no|    yes|     no|telephone|      1|  may|        mon|     261|       1|  999|       0|nonexistent|         1.1|        93.994|        -36.4|    4.857|       5191| no|\n",
            "|     11| 41|blue-collar| married|            unknown|unknown|     no|     no|telephone|      1|  may|        mon|     261|       1|  999|       0|nonexistent|         1.1|        93.994|        -36.4|    4.857|       5191| no|\n",
            "|     12| 25|   services|  single|        high.school|     no|    yes|     no|telephone|      1|  may|        mon|     261|       1|  999|       0|nonexistent|         1.1|        93.994|        -36.4|    4.857|       5191| no|\n",
            "|     13| 29|blue-collar|  single|        high.school|     no|     no|    yes|telephone|      1|  may|        mon|     261|       1|  999|       0|nonexistent|         1.1|        93.994|        -36.4|    4.857|       5191| no|\n",
            "|     14| 57|  housemaid|divorced|           basic.4y|     no|    yes|     no|telephone|      1|  may|        mon|     261|       1|  999|       0|nonexistent|         1.1|        93.994|        -36.4|    4.857|       5191| no|\n",
            "|     18| 46|blue-collar| married|           basic.6y|unknown|    yes|    yes|telephone|      1|  may|        mon|     261|       1|  999|       0|nonexistent|         1.1|        93.994|        -36.4|    4.857|       5191| no|\n",
            "|     19| 50|blue-collar| married|           basic.9y|     no|    yes|    yes|telephone|      1|  may|        mon|     261|       1|  999|       0|nonexistent|         1.1|        93.994|        -36.4|    4.857|       5191| no|\n",
            "|     20| 39| management|  single|           basic.9y|unknown|     no|     no|telephone|      1|  may|        mon|     261|       1|  999|       0|nonexistent|         1.1|        93.994|        -36.4|    4.857|       5191| no|\n",
            "|     22| 55|blue-collar| married|           basic.4y|unknown|    yes|     no|telephone|      1|  may|        mon|     261|       1|  999|       0|nonexistent|         1.1|        93.994|        -36.4|    4.857|       5191| no|\n",
            "|     23| 55|    retired|  single|        high.school|     no|    yes|     no|telephone|      1|  may|        mon|     261|       1|  999|       0|nonexistent|         1.1|        93.994|        -36.4|    4.857|       5191| no|\n",
            "|     25| 37|     admin.| married|        high.school|     no|    yes|     no|telephone|      1|  may|        mon|     261|       1|  999|       0|nonexistent|         1.1|        93.994|        -36.4|    4.857|       5191| no|\n",
            "|     26| 35| technician| married|  university.degree|     no|     no|    yes|telephone|      1|  may|        mon|     261|       1|  999|       0|nonexistent|         1.1|        93.994|        -36.4|    4.857|       5191| no|\n",
            "|     27| 59| technician| married|            unknown|     no|    yes|     no|telephone|      1|  may|        mon|     261|       1|  999|       0|nonexistent|         1.1|        93.994|        -36.4|    4.857|       5191| no|\n",
            "|     29| 54| technician|  single|  university.degree|unknown|     no|     no|telephone|      1|  may|        mon|     261|       1|  999|       0|nonexistent|         1.1|        93.994|        -36.4|    4.857|       5191| no|\n",
            "|     30| 55|    unknown| married|  university.degree|unknown|unknown|unknown|telephone|      1|  may|        mon|     261|       1|  999|       0|nonexistent|         1.1|        93.994|        -36.4|    4.857|       5191| no|\n",
            "+-------+---+-----------+--------+-------------------+-------+-------+-------+---------+-------+-----+-----------+--------+--------+-----+--------+-----------+------------+--------------+-------------+---------+-----------+---+\n",
            "only showing top 20 rows\n",
            "\n"
          ]
        }
      ]
    },
    {
      "cell_type": "code",
      "source": [
        "#the average age of the customer based on their job:\n",
        "avg_age = df1.groupBy(\"job\").avg(\"age\")\n",
        "avg_age.show()"
      ],
      "metadata": {
        "colab": {
          "base_uri": "https://localhost:8080/"
        },
        "id": "aelEaPjJc2xk",
        "outputId": "6acac8eb-f1d4-44a4-a827-c661a57dd812"
      },
      "execution_count": null,
      "outputs": [
        {
          "output_type": "stream",
          "name": "stdout",
          "text": [
            "+-------------+------------------+\n",
            "|          job|          avg(age)|\n",
            "+-------------+------------------+\n",
            "|   management| 42.36285909712722|\n",
            "|      retired|62.031995346131474|\n",
            "|      unknown| 45.53495440729483|\n",
            "|self-employed|             39.95|\n",
            "|      student| 25.89485714285714|\n",
            "|  blue-collar| 39.55674448767834|\n",
            "| entrepreneur|41.723214285714285|\n",
            "|       admin.| 38.18529891565109|\n",
            "|   technician|38.504227859368044|\n",
            "|     services|37.928139183055976|\n",
            "|    housemaid|              45.5|\n",
            "|   unemployed| 39.74333662388944|\n",
            "+-------------+------------------+\n",
            "\n"
          ]
        }
      ]
    },
    {
      "cell_type": "code",
      "source": [
        "# the job and marital status of the customer and find their average age.\n",
        "avg_age_job_martial = df1.groupBy(\"job\",\"marital\").avg(\"age\")\n",
        "avg_age_job_martial.show()"
      ],
      "metadata": {
        "colab": {
          "base_uri": "https://localhost:8080/"
        },
        "id": "FB4PDzpOdsRO",
        "outputId": "d25b7aef-fc71-4120-af33-36efa6e52ccd"
      },
      "execution_count": null,
      "outputs": [
        {
          "output_type": "stream",
          "name": "stdout",
          "text": [
            "+------------+--------+------------------+\n",
            "|         job| marital|          avg(age)|\n",
            "+------------+--------+------------------+\n",
            "|entrepreneur| married|42.527544351073765|\n",
            "|     unknown| married| 48.27038626609442|\n",
            "|     student| unknown|              30.0|\n",
            "|  unemployed|  single|33.254980079681275|\n",
            "|      admin.|  single|33.645935483870964|\n",
            "| blue-collar|divorced| 42.84065934065934|\n",
            "|   housemaid| married|45.745173745173744|\n",
            "|     unknown|  single|36.608108108108105|\n",
            "|     unknown| unknown|40.333333333333336|\n",
            "|     unknown|divorced| 50.92307692307692|\n",
            "|  technician|divorced| 42.05297157622739|\n",
            "|entrepreneur|divorced| 44.10614525139665|\n",
            "|     student|  single|25.555825242718445|\n",
            "|  unemployed| unknown|              47.2|\n",
            "|  unemployed| married| 41.69668246445497|\n",
            "|  management| unknown|              51.0|\n",
            "|     student| married|30.634146341463413|\n",
            "|      admin.| married| 40.29874333587205|\n",
            "|  management| married| 43.75634274772619|\n",
            "|entrepreneur| unknown|              34.0|\n",
            "+------------+--------+------------------+\n",
            "only showing top 20 rows\n",
            "\n"
          ]
        }
      ]
    },
    {
      "cell_type": "code",
      "source": [
        "# max and min duration of the customer call duration\n",
        "from pyspark.sql.functions import max,min\n",
        "\n",
        "result = df2.groupBy(\"Cust_id\").agg(max(\"duration\").alias(\"Max_call_duration\"))\n",
        "result.show()\n",
        "\n",
        "\n",
        "result1 = df2.groupBy(\"Cust_id\").agg(min(\"duration\").alias(\"Min_call_duration\"))\n",
        "result1.show()"
      ],
      "metadata": {
        "colab": {
          "base_uri": "https://localhost:8080/"
        },
        "id": "Z0ubLsh-eEXw",
        "outputId": "a77a497c-5dd8-4596-a90c-6b5253ab3c24"
      },
      "execution_count": null,
      "outputs": [
        {
          "output_type": "stream",
          "name": "stdout",
          "text": [
            "+-------+-----------------+\n",
            "|Cust_id|Max_call_duration|\n",
            "+-------+-----------------+\n",
            "|    148|              338|\n",
            "|    463|              678|\n",
            "|    471|              529|\n",
            "|    496|              374|\n",
            "|    833|              732|\n",
            "|   1088|              113|\n",
            "|   1238|              152|\n",
            "|   1342|              289|\n",
            "|   1580|              180|\n",
            "|   1591|              208|\n",
            "|   1645|              352|\n",
            "|   1829|              195|\n",
            "|   1959|              180|\n",
            "|   2122|              132|\n",
            "|   2142|              470|\n",
            "|   2366|               38|\n",
            "|   2659|              360|\n",
            "|   2866|              784|\n",
            "|   3175|             1074|\n",
            "|   3749|              291|\n",
            "+-------+-----------------+\n",
            "only showing top 20 rows\n",
            "\n",
            "+-------+-----------------+\n",
            "|Cust_id|Min_call_duration|\n",
            "+-------+-----------------+\n",
            "|    148|              338|\n",
            "|    463|              678|\n",
            "|    471|              529|\n",
            "|    496|              374|\n",
            "|    833|              732|\n",
            "|   1088|              113|\n",
            "|   1238|              152|\n",
            "|   1342|              289|\n",
            "|   1580|              180|\n",
            "|   1591|              208|\n",
            "|   1645|              352|\n",
            "|   1829|              195|\n",
            "|   1959|              180|\n",
            "|   2122|              132|\n",
            "|   2142|              470|\n",
            "|   2366|               38|\n",
            "|   2659|              360|\n",
            "|   2866|              784|\n",
            "|   3175|             1074|\n",
            "|   3749|              291|\n",
            "+-------+-----------------+\n",
            "only showing top 20 rows\n",
            "\n"
          ]
        }
      ]
    },
    {
      "cell_type": "code",
      "source": [
        "# pivot martial status and job based on avg age\n",
        "pivot=df1.groupBy(\"job\").pivot(\"marital\").agg(avg(\"age\"))\n",
        "pivot.show()"
      ],
      "metadata": {
        "colab": {
          "base_uri": "https://localhost:8080/"
        },
        "id": "VeaE9c3phvj8",
        "outputId": "5491369a-9629-4115-8b60-8748bf21c327"
      },
      "execution_count": null,
      "outputs": [
        {
          "output_type": "stream",
          "name": "stdout",
          "text": [
            "+-------------+------------------+------------------+------------------+------------------+\n",
            "|          job|          divorced|           married|            single|           unknown|\n",
            "+-------------+------------------+------------------+------------------+------------------+\n",
            "|   management|46.190332326283986| 43.75634274772619| 33.97205588822355|              51.0|\n",
            "|      retired| 64.45689655172414|61.836606441476825| 55.68817204301075|              61.0|\n",
            "|      unknown| 50.92307692307692| 48.27038626609442|36.608108108108105|40.333333333333336|\n",
            "|self-employed| 42.75187969924812| 42.23366555924695| 33.53298153034301|              39.4|\n",
            "|      student|34.888888888888886|30.634146341463413|25.555825242718445|              30.0|\n",
            "|  blue-collar| 42.84065934065934| 40.89139865370232|33.342465753424655| 41.57142857142857|\n",
            "| entrepreneur| 44.10614525139665|42.527544351073765| 35.49261083743843|              34.0|\n",
            "|       admin.|       43.28203125| 40.29874333587205|33.645935483870964|35.785714285714285|\n",
            "|   technician| 42.05297157622739| 40.75579176887435| 33.71916010498688|             32.75|\n",
            "|     services| 42.08458646616541| 39.87521815008726| 32.04225352112676|              40.0|\n",
            "|    housemaid| 49.62111801242236|45.745173745173744| 38.46218487394958|              40.0|\n",
            "|   unemployed|42.604838709677416| 41.69668246445497|33.254980079681275|              47.2|\n",
            "+-------------+------------------+------------------+------------------+------------------+\n",
            "\n"
          ]
        }
      ]
    }
  ]
}