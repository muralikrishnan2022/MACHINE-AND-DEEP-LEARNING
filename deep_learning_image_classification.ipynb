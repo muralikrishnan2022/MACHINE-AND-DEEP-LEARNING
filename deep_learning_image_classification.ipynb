{
  "cells": [
    {
      "cell_type": "markdown",
      "metadata": {
        "id": "view-in-github",
        "colab_type": "text"
      },
      "source": [
        "<a href=\"https://colab.research.google.com/github/muralikrishnan2022/MACHINE-AND-DEEP-LEARNING/blob/main/deep_learning_image_classification.ipynb\" target=\"_parent\"><img src=\"https://colab.research.google.com/assets/colab-badge.svg\" alt=\"Open In Colab\"/></a>"
      ]
    },
    {
      "cell_type": "code",
      "execution_count": null,
      "metadata": {
        "id": "8LffUTjwBsJi",
        "outputId": "861ecc44-2ec8-4c7b-8ec7-5a03f66e961a"
      },
      "outputs": [
        {
          "name": "stdout",
          "output_type": "stream",
          "text": [
            "Downloading data from https://storage.googleapis.com/tensorflow/keras-applications/vgg16/vgg16_weights_tf_dim_ordering_tf_kernels_notop.h5\n",
            "58892288/58889256 [==============================] - 0s 0us/step\n"
          ]
        }
      ],
      "source": [
        "from tensorflow import keras\n",
        "\n",
        "base_model = keras.applications.VGG16(\n",
        "    weights='imagenet',\n",
        "    input_shape=(224, 224, 3),\n",
        "    include_top=False)"
      ]
    },
    {
      "cell_type": "code",
      "execution_count": null,
      "metadata": {
        "id": "U5Nsu76eBsJl"
      },
      "outputs": [],
      "source": [
        "# Freeze base model\n",
        "base_model.trainable = False"
      ]
    },
    {
      "cell_type": "code",
      "execution_count": null,
      "metadata": {
        "id": "et9vbpdIBsJm"
      },
      "outputs": [],
      "source": [
        "# Create inputs with correct shape\n",
        "inputs = keras.Input(shape=(224, 224, 3))\n",
        "\n",
        "x = base_model(inputs, training=False)\n",
        "\n",
        "# Add pooling layer or flatten layer\n",
        "x =keras.layers.GlobalAveragePooling2D()(x)\n",
        "\n",
        "# Add final dense layer\n",
        "outputs = keras.layers.Dense(6, activation = 'softmax')(x)\n",
        "\n",
        "# Combine inputs and outputs to create model\n",
        "model = keras.Model(inputs, outputs)"
      ]
    },
    {
      "cell_type": "code",
      "execution_count": null,
      "metadata": {
        "id": "HixJ8ridBsJm",
        "outputId": "948e2b1f-b9ff-4ebb-f2cb-55fd2efe36f7"
      },
      "outputs": [
        {
          "name": "stdout",
          "output_type": "stream",
          "text": [
            "Model: \"model\"\n",
            "_________________________________________________________________\n",
            "Layer (type)                 Output Shape              Param #   \n",
            "=================================================================\n",
            "input_2 (InputLayer)         [(None, 224, 224, 3)]     0         \n",
            "_________________________________________________________________\n",
            "vgg16 (Model)                (None, 7, 7, 512)         14714688  \n",
            "_________________________________________________________________\n",
            "global_average_pooling2d (Gl (None, 512)               0         \n",
            "_________________________________________________________________\n",
            "dense (Dense)                (None, 6)                 3078      \n",
            "=================================================================\n",
            "Total params: 14,717,766\n",
            "Trainable params: 3,078\n",
            "Non-trainable params: 14,714,688\n",
            "_________________________________________________________________\n"
          ]
        }
      ],
      "source": [
        "model.summary()"
      ]
    },
    {
      "cell_type": "code",
      "execution_count": null,
      "metadata": {
        "id": "SR4aHjydBsJn"
      },
      "outputs": [],
      "source": [
        "model.compile(loss='categorical_crossentropy', metrics=['accuracy'])"
      ]
    },
    {
      "cell_type": "code",
      "execution_count": null,
      "metadata": {
        "id": "V16SbunHBsJo"
      },
      "outputs": [],
      "source": [
        "from tensorflow.keras.preprocessing.image import ImageDataGenerator\n",
        "\n",
        "datagen_train = ImageDataGenerator(samplewise_center=True,  # set each sample mean to 0\n",
        "    rotation_range=10,  # randomly rotate images in the range (degrees, 0 to 180)\n",
        "    zoom_range=0.1,  # Randomly zoom image\n",
        "    width_shift_range=0.1,  # randomly shift images horizontally (fraction of total width)\n",
        "    height_shift_range=0.1,  # randomly shift images vertically (fraction of total height)\n",
        "    horizontal_flip=True,  # randomly flip images\n",
        "    vertical_flip=False,)\n",
        "datagen_valid = ImageDataGenerator(samplewise_center=True)"
      ]
    },
    {
      "cell_type": "code",
      "execution_count": null,
      "metadata": {
        "id": "A3nxIDX_BsJo",
        "outputId": "d85f4787-ef73-4f92-d88d-83f74066ff51"
      },
      "outputs": [
        {
          "name": "stdout",
          "output_type": "stream",
          "text": [
            "Found 1182 images belonging to 6 classes.\n",
            "Found 329 images belonging to 6 classes.\n"
          ]
        }
      ],
      "source": [
        "# load and iterate training dataset\n",
        "train_it = datagen_train.flow_from_directory(\n",
        "    \"data/fruits/train/\",\n",
        "    target_size=(224, 224),\n",
        "    color_mode=\"rgb\",\n",
        "    class_mode=\"categorical\",\n",
        ")\n",
        "# load and iterate validation dataset\n",
        "valid_it = datagen_valid.flow_from_directory(\n",
        "    \"data/fruits/valid/\",\n",
        "    target_size=(224, 224),\n",
        "    color_mode=\"rgb\",\n",
        "    class_mode=\"categorical\",\n",
        ")"
      ]
    },
    {
      "cell_type": "code",
      "execution_count": null,
      "metadata": {
        "id": "DK6dglPdBsJp",
        "outputId": "7a2841a5-dd7f-4c64-cef0-f89bac625106"
      },
      "outputs": [
        {
          "name": "stdout",
          "output_type": "stream",
          "text": [
            "Epoch 1/10\n",
            "37/36 [==============================] - 26s 700ms/step - loss: 2.2733 - accuracy: 0.5178 - val_loss: 1.0335 - val_accuracy: 0.6869\n",
            "Epoch 2/10\n",
            "37/36 [==============================] - 17s 472ms/step - loss: 0.6664 - accuracy: 0.7826 - val_loss: 0.5459 - val_accuracy: 0.8359\n",
            "Epoch 3/10\n",
            "37/36 [==============================] - 17s 472ms/step - loss: 0.3491 - accuracy: 0.8832 - val_loss: 0.2414 - val_accuracy: 0.8815\n",
            "Epoch 4/10\n",
            "37/36 [==============================] - 17s 472ms/step - loss: 0.2368 - accuracy: 0.9213 - val_loss: 0.2537 - val_accuracy: 0.8906\n",
            "Epoch 5/10\n",
            "37/36 [==============================] - 18s 476ms/step - loss: 0.1502 - accuracy: 0.9374 - val_loss: 0.1995 - val_accuracy: 0.9271\n",
            "Epoch 6/10\n",
            "37/36 [==============================] - 18s 479ms/step - loss: 0.1217 - accuracy: 0.9611 - val_loss: 0.1726 - val_accuracy: 0.9514\n",
            "Epoch 7/10\n",
            "37/36 [==============================] - 18s 477ms/step - loss: 0.0984 - accuracy: 0.9670 - val_loss: 0.1448 - val_accuracy: 0.9514\n",
            "Epoch 8/10\n",
            "37/36 [==============================] - 18s 478ms/step - loss: 0.0892 - accuracy: 0.9712 - val_loss: 0.1269 - val_accuracy: 0.9635\n",
            "Epoch 9/10\n",
            "37/36 [==============================] - 18s 480ms/step - loss: 0.0684 - accuracy: 0.9788 - val_loss: 0.1425 - val_accuracy: 0.9635\n",
            "Epoch 10/10\n",
            "37/36 [==============================] - 18s 475ms/step - loss: 0.0602 - accuracy: 0.9788 - val_loss: 0.1545 - val_accuracy: 0.9574\n"
          ]
        },
        {
          "data": {
            "text/plain": [
              "<tensorflow.python.keras.callbacks.History at 0x7ff0f344c0b8>"
            ]
          },
          "execution_count": 11,
          "metadata": {},
          "output_type": "execute_result"
        }
      ],
      "source": [
        "model.fit(train_it,\n",
        "          validation_data=valid_it,\n",
        "          steps_per_epoch=train_it.samples/train_it.batch_size,\n",
        "          validation_steps=valid_it.samples/valid_it.batch_size,\n",
        "          epochs=10)"
      ]
    },
    {
      "cell_type": "code",
      "execution_count": null,
      "metadata": {
        "id": "ABQkoXxlBsJq"
      },
      "outputs": [],
      "source": [
        "# Unfreeze the base model\n",
        "base_model.trainable = FIXME\n",
        "\n",
        "# Compile the model with a low learning rate\n",
        "model.compile(optimizer=keras.optimizers.RMSprop(learning_rate = FIXME),\n",
        "              loss = FIXME , metrics = FIXME)"
      ]
    },
    {
      "cell_type": "code",
      "execution_count": null,
      "metadata": {
        "id": "jivaMTvcBsJq"
      },
      "outputs": [],
      "source": [
        "model.fit(FIXME,\n",
        "          validation_data=FIXME,\n",
        "          steps_per_epoch=train_it.samples/train_it.batch_size,\n",
        "          validation_steps=valid_it.samples/valid_it.batch_size,\n",
        "          epochs=FIXME)"
      ]
    },
    {
      "cell_type": "code",
      "execution_count": null,
      "metadata": {
        "id": "mrnZb8F7BsJr",
        "outputId": "5fae7fa1-bf1b-4795-ea60-08b05b4a5c6a"
      },
      "outputs": [
        {
          "name": "stdout",
          "output_type": "stream",
          "text": [
            "11/10 [================================] - 2s 146ms/step - loss: 0.1346 - accuracy: 0.9635\n"
          ]
        },
        {
          "data": {
            "text/plain": [
              "[0.13457219302654266, 0.9635258316993713]"
            ]
          },
          "execution_count": 12,
          "metadata": {},
          "output_type": "execute_result"
        }
      ],
      "source": [
        "model.evaluate(valid_it, steps=valid_it.samples/valid_it.batch_size)"
      ]
    },
    {
      "cell_type": "code",
      "execution_count": null,
      "metadata": {
        "id": "P0lcUGnfBsJs"
      },
      "outputs": [],
      "source": [
        "from run_assessment import run_assessment"
      ]
    },
    {
      "cell_type": "code",
      "execution_count": null,
      "metadata": {
        "id": "WRIA0Wi6BsJs",
        "outputId": "c81582d2-5a0d-4093-d936-0001cc257f42"
      },
      "outputs": [
        {
          "name": "stdout",
          "output_type": "stream",
          "text": [
            "Evaluating model 5 times to obtain average accuracy...\n",
            "\n",
            "11/10 [================================] - 1s 134ms/step - loss: 0.1407 - accuracy: 0.9605\n",
            "11/10 [================================] - 2s 141ms/step - loss: 0.1280 - accuracy: 0.9635\n",
            "11/10 [================================] - 1s 136ms/step - loss: 0.1669 - accuracy: 0.9574\n",
            "11/10 [================================] - 1s 134ms/step - loss: 0.1586 - accuracy: 0.9574\n",
            "11/10 [================================] - 1s 136ms/step - loss: 0.1063 - accuracy: 0.9574\n",
            "\n",
            "Accuracy required to pass the assessment is 0.92 or greater.\n",
            "Your average accuracy is 0.9593.\n",
            "\n",
            "Congratulations! You passed the assessment!\n",
            "See instructions below to generate a certificate.\n"
          ]
        }
      ],
      "source": [
        "run_assessment(model, valid_it)"
      ]
    }
  ],
  "metadata": {
    "kernelspec": {
      "display_name": "Python 3",
      "language": "python",
      "name": "python3"
    },
    "language_info": {
      "codemirror_mode": {
        "name": "ipython",
        "version": 3
      },
      "file_extension": ".py",
      "mimetype": "text/x-python",
      "name": "python",
      "nbconvert_exporter": "python",
      "pygments_lexer": "ipython3",
      "version": "3.6.9"
    },
    "colab": {
      "provenance": [],
      "include_colab_link": true
    }
  },
  "nbformat": 4,
  "nbformat_minor": 0
}